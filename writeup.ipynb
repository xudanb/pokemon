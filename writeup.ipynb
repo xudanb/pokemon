{
 "cells": [
  {
   "cell_type": "markdown",
   "metadata": {},
   "source": [
    "### 1. Web Scraping"
   ]
  },
  {
   "cell_type": "markdown",
   "metadata": {},
   "source": [
    "I implemented a web scraper that scans through all 556 pages of https://www.tcgcollector.com/cards/intl, extracts all 13888 individual card urls like https://www.tcgcollector.com/cards/16633/weedle-vivid-voltage-001-185, scrapes static and dynamic content from the individual card pages, parses the information into a structured format, and stores structured entries in csv files. The web scraper is built with Scrapy, a python based web scraping framework, and Selenium, which is suitable for scraping dynamic web content. \n",
    "\n",
    "The scraped dataset has 13888 rows and 18 columns ('attacks', 'card_format', 'card_number', 'card_type', 'damages','energy', 'evolution', 'evolved_from', 'expansion', 'hp','illustrators', 'languages', 'name', 'rarity', 'resistance','retreat_cost', 'variants', 'weakness'). Gnerally speaking, fields with only one value are stored in dataset as is, while fields with more than one values are combined into one semicolon separated string to be stored. Not all available fields from the website are scraped for now due to time constriant (for example, card effect, card rule, additional information, provides, note the last one is for energy cards), but we can easily add these fields to the scraper. \n",
    "\n",
    "Among the current columns, 'variants' and 'languages' are scraped from dynamic content while the other fields are scraped statically. Static scraping is mostly done by parsing response object using xpath, while dynamic scraping is achieved with simulated page clicks followed by parsing. To access dynamic content, we also need to provide login credentials of a premium account. \n",
    "\n",
    "Scrapy is a powerful framework that handles web scraping in a distributed way, so row indices of the scraped dataset don't reflect the order of corresponding cards in the original website. In order to perserve ordering of cards in the website, we need to do some further processing. "
   ]
  },
  {
   "cell_type": "markdown",
   "metadata": {},
   "source": [
    "### 2. Load Data"
   ]
  },
  {
   "cell_type": "markdown",
   "metadata": {},
   "source": [
    "We will now load scraped data in a pandas dataframe, print out its shape and display the first few lines. "
   ]
  },
  {
   "cell_type": "code",
   "execution_count": 1,
   "metadata": {},
   "outputs": [],
   "source": [
    "import pandas as pd\n",
    "\n",
    "df1 = pd.read_csv('data/1-200.csv', encoding='utf-8')\n",
    "df2 = pd.read_csv('data/201-400.csv', encoding='utf-8')\n",
    "df3 = pd.read_csv('data/401-556.csv', encoding='utf-8')\n",
    "df = pd.concat([df1, df2, df3], ignore_index=True)"
   ]
  },
  {
   "cell_type": "code",
   "execution_count": 2,
   "metadata": {},
   "outputs": [
    {
     "data": {
      "text/plain": [
       "(13888, 18)"
      ]
     },
     "execution_count": 2,
     "metadata": {},
     "output_type": "execute_result"
    }
   ],
   "source": [
    "df.shape"
   ]
  },
  {
   "cell_type": "code",
   "execution_count": 3,
   "metadata": {
    "scrolled": true
   },
   "outputs": [
    {
     "data": {
      "text/html": [
       "<div>\n",
       "<style scoped>\n",
       "    .dataframe tbody tr th:only-of-type {\n",
       "        vertical-align: middle;\n",
       "    }\n",
       "\n",
       "    .dataframe tbody tr th {\n",
       "        vertical-align: top;\n",
       "    }\n",
       "\n",
       "    .dataframe thead th {\n",
       "        text-align: right;\n",
       "    }\n",
       "</style>\n",
       "<table border=\"1\" class=\"dataframe\">\n",
       "  <thead>\n",
       "    <tr style=\"text-align: right;\">\n",
       "      <th></th>\n",
       "      <th>attacks</th>\n",
       "      <th>card_format</th>\n",
       "      <th>card_number</th>\n",
       "      <th>card_type</th>\n",
       "      <th>damages</th>\n",
       "      <th>energy</th>\n",
       "      <th>evolution</th>\n",
       "      <th>evolved_from</th>\n",
       "      <th>expansion</th>\n",
       "      <th>hp</th>\n",
       "      <th>illustrators</th>\n",
       "      <th>languages</th>\n",
       "      <th>name</th>\n",
       "      <th>rarity</th>\n",
       "      <th>resistance</th>\n",
       "      <th>retreat_cost</th>\n",
       "      <th>variants</th>\n",
       "      <th>weakness</th>\n",
       "    </tr>\n",
       "  </thead>\n",
       "  <tbody>\n",
       "    <tr>\n",
       "      <th>0</th>\n",
       "      <td>Magical Shot;Swelling Pulse</td>\n",
       "      <td>Standard</td>\n",
       "      <td>016/073</td>\n",
       "      <td>Pokémon V</td>\n",
       "      <td>30;120+</td>\n",
       "      <td>Psychic</td>\n",
       "      <td>Basic</td>\n",
       "      <td>NaN</td>\n",
       "      <td>Champion's Path</td>\n",
       "      <td>210.0</td>\n",
       "      <td>Kagemaru Himeno</td>\n",
       "      <td>English (EN);French (FR);Spanish (ES);Portugue...</td>\n",
       "      <td>Gardevoir V</td>\n",
       "      <td>Rare Holo V</td>\n",
       "      <td>NaN</td>\n",
       "      <td>2.0</td>\n",
       "      <td>Unlimited</td>\n",
       "      <td>Metal×2</td>\n",
       "    </tr>\n",
       "    <tr>\n",
       "      <th>1</th>\n",
       "      <td>Electrified Bite Mark;Electro Sprinkler</td>\n",
       "      <td>Standard</td>\n",
       "      <td>059/185</td>\n",
       "      <td>Pokémon</td>\n",
       "      <td>60;120</td>\n",
       "      <td>Lightning</td>\n",
       "      <td>Stage 2</td>\n",
       "      <td>Eelektrik</td>\n",
       "      <td>Vivid Voltage</td>\n",
       "      <td>160.0</td>\n",
       "      <td>tetsuya koizumi</td>\n",
       "      <td>English (EN);French (FR);Spanish (ES);Portugue...</td>\n",
       "      <td>Eelektross</td>\n",
       "      <td>Rare</td>\n",
       "      <td>NaN</td>\n",
       "      <td>3.0</td>\n",
       "      <td>Unlimited;Reverse Holo</td>\n",
       "      <td>Fighting×2</td>\n",
       "    </tr>\n",
       "    <tr>\n",
       "      <th>2</th>\n",
       "      <td>NaN</td>\n",
       "      <td>Standard</td>\n",
       "      <td>201/185</td>\n",
       "      <td>Full Art Trainer,Item</td>\n",
       "      <td>NaN</td>\n",
       "      <td>NaN</td>\n",
       "      <td>NaN</td>\n",
       "      <td>NaN</td>\n",
       "      <td>Vivid Voltage</td>\n",
       "      <td>NaN</td>\n",
       "      <td>Toyste Beach</td>\n",
       "      <td>English (EN);French (FR);Spanish (ES);Portugue...</td>\n",
       "      <td>Hero's Medal</td>\n",
       "      <td>Rare Secret</td>\n",
       "      <td>NaN</td>\n",
       "      <td>NaN</td>\n",
       "      <td>Unlimited</td>\n",
       "      <td>NaN</td>\n",
       "    </tr>\n",
       "    <tr>\n",
       "      <th>3</th>\n",
       "      <td>Fire Mane</td>\n",
       "      <td>Standard</td>\n",
       "      <td>026/185</td>\n",
       "      <td>Pokémon</td>\n",
       "      <td>100</td>\n",
       "      <td>Fire</td>\n",
       "      <td>Stage 1</td>\n",
       "      <td>Eevee</td>\n",
       "      <td>Vivid Voltage</td>\n",
       "      <td>110.0</td>\n",
       "      <td>Eri Yamaki</td>\n",
       "      <td>English (EN);French (FR);Spanish (ES);Portugue...</td>\n",
       "      <td>Flareon</td>\n",
       "      <td>Rare</td>\n",
       "      <td>NaN</td>\n",
       "      <td>2.0</td>\n",
       "      <td>Unlimited;Reverse Holo</td>\n",
       "      <td>Water×2</td>\n",
       "    </tr>\n",
       "    <tr>\n",
       "      <th>4</th>\n",
       "      <td>Auspicious Tone;Hypnoblast</td>\n",
       "      <td>Standard</td>\n",
       "      <td>072/185</td>\n",
       "      <td>Pokémon</td>\n",
       "      <td>0;30</td>\n",
       "      <td>Psychic</td>\n",
       "      <td>Basic</td>\n",
       "      <td>NaN</td>\n",
       "      <td>Vivid Voltage</td>\n",
       "      <td>70.0</td>\n",
       "      <td>Asako Ito</td>\n",
       "      <td>English (EN);French (FR);Spanish (ES);Portugue...</td>\n",
       "      <td>Chimecho</td>\n",
       "      <td>Common</td>\n",
       "      <td>Fighting-30</td>\n",
       "      <td>1.0</td>\n",
       "      <td>Unlimited;Reverse Holo</td>\n",
       "      <td>Darkness×2</td>\n",
       "    </tr>\n",
       "  </tbody>\n",
       "</table>\n",
       "</div>"
      ],
      "text/plain": [
       "                                   attacks card_format card_number  \\\n",
       "0              Magical Shot;Swelling Pulse    Standard     016/073   \n",
       "1  Electrified Bite Mark;Electro Sprinkler    Standard     059/185   \n",
       "2                                      NaN    Standard     201/185   \n",
       "3                                Fire Mane    Standard     026/185   \n",
       "4               Auspicious Tone;Hypnoblast    Standard     072/185   \n",
       "\n",
       "               card_type  damages     energy evolution evolved_from  \\\n",
       "0              Pokémon V  30;120+    Psychic     Basic          NaN   \n",
       "1                Pokémon   60;120  Lightning   Stage 2    Eelektrik   \n",
       "2  Full Art Trainer,Item      NaN        NaN       NaN          NaN   \n",
       "3                Pokémon      100       Fire   Stage 1        Eevee   \n",
       "4                Pokémon     0;30    Psychic     Basic          NaN   \n",
       "\n",
       "         expansion     hp     illustrators  \\\n",
       "0  Champion's Path  210.0  Kagemaru Himeno   \n",
       "1    Vivid Voltage  160.0  tetsuya koizumi   \n",
       "2    Vivid Voltage    NaN     Toyste Beach   \n",
       "3    Vivid Voltage  110.0       Eri Yamaki   \n",
       "4    Vivid Voltage   70.0        Asako Ito   \n",
       "\n",
       "                                           languages          name  \\\n",
       "0  English (EN);French (FR);Spanish (ES);Portugue...   Gardevoir V   \n",
       "1  English (EN);French (FR);Spanish (ES);Portugue...    Eelektross   \n",
       "2  English (EN);French (FR);Spanish (ES);Portugue...  Hero's Medal   \n",
       "3  English (EN);French (FR);Spanish (ES);Portugue...       Flareon   \n",
       "4  English (EN);French (FR);Spanish (ES);Portugue...      Chimecho   \n",
       "\n",
       "        rarity   resistance  retreat_cost                variants    weakness  \n",
       "0  Rare Holo V          NaN           2.0               Unlimited     Metal×2  \n",
       "1         Rare          NaN           3.0  Unlimited;Reverse Holo  Fighting×2  \n",
       "2  Rare Secret          NaN           NaN               Unlimited         NaN  \n",
       "3         Rare          NaN           2.0  Unlimited;Reverse Holo     Water×2  \n",
       "4       Common  Fighting-30           1.0  Unlimited;Reverse Holo  Darkness×2  "
      ]
     },
     "execution_count": 3,
     "metadata": {},
     "output_type": "execute_result"
    }
   ],
   "source": [
    "df.head()"
   ]
  },
  {
   "cell_type": "markdown",
   "metadata": {},
   "source": [
    "### 3. Explode"
   ]
  },
  {
   "cell_type": "markdown",
   "metadata": {},
   "source": [
    "We will fill missing values in variants and languages with empty strings, transform each semicolon separated string in 'variants' and 'languages' into a list of strings, and use the built-in explode method to generate a unique row for each variant (printing) and language card. "
   ]
  },
  {
   "cell_type": "code",
   "execution_count": 4,
   "metadata": {},
   "outputs": [],
   "source": [
    "# explode variants\n",
    "df[\"variants\"] = df[\"variants\"].fillna(\"\")\n",
    "df[\"variants\"] = df[\"variants\"].apply(lambda x: x.split(\";\"))\n",
    "df = df.explode(\"variants\", ignore_index=True)"
   ]
  },
  {
   "cell_type": "markdown",
   "metadata": {},
   "source": [
    "The dataframe after exploding for variants contains 25517 rows, and we will display the first few lines. "
   ]
  },
  {
   "cell_type": "code",
   "execution_count": 5,
   "metadata": {},
   "outputs": [
    {
     "data": {
      "text/plain": [
       "(25517, 18)"
      ]
     },
     "execution_count": 5,
     "metadata": {},
     "output_type": "execute_result"
    }
   ],
   "source": [
    "df.shape"
   ]
  },
  {
   "cell_type": "code",
   "execution_count": 6,
   "metadata": {},
   "outputs": [
    {
     "data": {
      "text/html": [
       "<div>\n",
       "<style scoped>\n",
       "    .dataframe tbody tr th:only-of-type {\n",
       "        vertical-align: middle;\n",
       "    }\n",
       "\n",
       "    .dataframe tbody tr th {\n",
       "        vertical-align: top;\n",
       "    }\n",
       "\n",
       "    .dataframe thead th {\n",
       "        text-align: right;\n",
       "    }\n",
       "</style>\n",
       "<table border=\"1\" class=\"dataframe\">\n",
       "  <thead>\n",
       "    <tr style=\"text-align: right;\">\n",
       "      <th></th>\n",
       "      <th>attacks</th>\n",
       "      <th>card_format</th>\n",
       "      <th>card_number</th>\n",
       "      <th>card_type</th>\n",
       "      <th>damages</th>\n",
       "      <th>energy</th>\n",
       "      <th>evolution</th>\n",
       "      <th>evolved_from</th>\n",
       "      <th>expansion</th>\n",
       "      <th>hp</th>\n",
       "      <th>illustrators</th>\n",
       "      <th>languages</th>\n",
       "      <th>name</th>\n",
       "      <th>rarity</th>\n",
       "      <th>resistance</th>\n",
       "      <th>retreat_cost</th>\n",
       "      <th>variants</th>\n",
       "      <th>weakness</th>\n",
       "    </tr>\n",
       "  </thead>\n",
       "  <tbody>\n",
       "    <tr>\n",
       "      <th>0</th>\n",
       "      <td>Magical Shot;Swelling Pulse</td>\n",
       "      <td>Standard</td>\n",
       "      <td>016/073</td>\n",
       "      <td>Pokémon V</td>\n",
       "      <td>30;120+</td>\n",
       "      <td>Psychic</td>\n",
       "      <td>Basic</td>\n",
       "      <td>NaN</td>\n",
       "      <td>Champion's Path</td>\n",
       "      <td>210.0</td>\n",
       "      <td>Kagemaru Himeno</td>\n",
       "      <td>English (EN);French (FR);Spanish (ES);Portugue...</td>\n",
       "      <td>Gardevoir V</td>\n",
       "      <td>Rare Holo V</td>\n",
       "      <td>NaN</td>\n",
       "      <td>2.0</td>\n",
       "      <td>Unlimited</td>\n",
       "      <td>Metal×2</td>\n",
       "    </tr>\n",
       "    <tr>\n",
       "      <th>1</th>\n",
       "      <td>Electrified Bite Mark;Electro Sprinkler</td>\n",
       "      <td>Standard</td>\n",
       "      <td>059/185</td>\n",
       "      <td>Pokémon</td>\n",
       "      <td>60;120</td>\n",
       "      <td>Lightning</td>\n",
       "      <td>Stage 2</td>\n",
       "      <td>Eelektrik</td>\n",
       "      <td>Vivid Voltage</td>\n",
       "      <td>160.0</td>\n",
       "      <td>tetsuya koizumi</td>\n",
       "      <td>English (EN);French (FR);Spanish (ES);Portugue...</td>\n",
       "      <td>Eelektross</td>\n",
       "      <td>Rare</td>\n",
       "      <td>NaN</td>\n",
       "      <td>3.0</td>\n",
       "      <td>Unlimited</td>\n",
       "      <td>Fighting×2</td>\n",
       "    </tr>\n",
       "    <tr>\n",
       "      <th>2</th>\n",
       "      <td>Electrified Bite Mark;Electro Sprinkler</td>\n",
       "      <td>Standard</td>\n",
       "      <td>059/185</td>\n",
       "      <td>Pokémon</td>\n",
       "      <td>60;120</td>\n",
       "      <td>Lightning</td>\n",
       "      <td>Stage 2</td>\n",
       "      <td>Eelektrik</td>\n",
       "      <td>Vivid Voltage</td>\n",
       "      <td>160.0</td>\n",
       "      <td>tetsuya koizumi</td>\n",
       "      <td>English (EN);French (FR);Spanish (ES);Portugue...</td>\n",
       "      <td>Eelektross</td>\n",
       "      <td>Rare</td>\n",
       "      <td>NaN</td>\n",
       "      <td>3.0</td>\n",
       "      <td>Reverse Holo</td>\n",
       "      <td>Fighting×2</td>\n",
       "    </tr>\n",
       "    <tr>\n",
       "      <th>3</th>\n",
       "      <td>NaN</td>\n",
       "      <td>Standard</td>\n",
       "      <td>201/185</td>\n",
       "      <td>Full Art Trainer,Item</td>\n",
       "      <td>NaN</td>\n",
       "      <td>NaN</td>\n",
       "      <td>NaN</td>\n",
       "      <td>NaN</td>\n",
       "      <td>Vivid Voltage</td>\n",
       "      <td>NaN</td>\n",
       "      <td>Toyste Beach</td>\n",
       "      <td>English (EN);French (FR);Spanish (ES);Portugue...</td>\n",
       "      <td>Hero's Medal</td>\n",
       "      <td>Rare Secret</td>\n",
       "      <td>NaN</td>\n",
       "      <td>NaN</td>\n",
       "      <td>Unlimited</td>\n",
       "      <td>NaN</td>\n",
       "    </tr>\n",
       "    <tr>\n",
       "      <th>4</th>\n",
       "      <td>Fire Mane</td>\n",
       "      <td>Standard</td>\n",
       "      <td>026/185</td>\n",
       "      <td>Pokémon</td>\n",
       "      <td>100</td>\n",
       "      <td>Fire</td>\n",
       "      <td>Stage 1</td>\n",
       "      <td>Eevee</td>\n",
       "      <td>Vivid Voltage</td>\n",
       "      <td>110.0</td>\n",
       "      <td>Eri Yamaki</td>\n",
       "      <td>English (EN);French (FR);Spanish (ES);Portugue...</td>\n",
       "      <td>Flareon</td>\n",
       "      <td>Rare</td>\n",
       "      <td>NaN</td>\n",
       "      <td>2.0</td>\n",
       "      <td>Unlimited</td>\n",
       "      <td>Water×2</td>\n",
       "    </tr>\n",
       "  </tbody>\n",
       "</table>\n",
       "</div>"
      ],
      "text/plain": [
       "                                   attacks card_format card_number  \\\n",
       "0              Magical Shot;Swelling Pulse    Standard     016/073   \n",
       "1  Electrified Bite Mark;Electro Sprinkler    Standard     059/185   \n",
       "2  Electrified Bite Mark;Electro Sprinkler    Standard     059/185   \n",
       "3                                      NaN    Standard     201/185   \n",
       "4                                Fire Mane    Standard     026/185   \n",
       "\n",
       "               card_type  damages     energy evolution evolved_from  \\\n",
       "0              Pokémon V  30;120+    Psychic     Basic          NaN   \n",
       "1                Pokémon   60;120  Lightning   Stage 2    Eelektrik   \n",
       "2                Pokémon   60;120  Lightning   Stage 2    Eelektrik   \n",
       "3  Full Art Trainer,Item      NaN        NaN       NaN          NaN   \n",
       "4                Pokémon      100       Fire   Stage 1        Eevee   \n",
       "\n",
       "         expansion     hp     illustrators  \\\n",
       "0  Champion's Path  210.0  Kagemaru Himeno   \n",
       "1    Vivid Voltage  160.0  tetsuya koizumi   \n",
       "2    Vivid Voltage  160.0  tetsuya koizumi   \n",
       "3    Vivid Voltage    NaN     Toyste Beach   \n",
       "4    Vivid Voltage  110.0       Eri Yamaki   \n",
       "\n",
       "                                           languages          name  \\\n",
       "0  English (EN);French (FR);Spanish (ES);Portugue...   Gardevoir V   \n",
       "1  English (EN);French (FR);Spanish (ES);Portugue...    Eelektross   \n",
       "2  English (EN);French (FR);Spanish (ES);Portugue...    Eelektross   \n",
       "3  English (EN);French (FR);Spanish (ES);Portugue...  Hero's Medal   \n",
       "4  English (EN);French (FR);Spanish (ES);Portugue...       Flareon   \n",
       "\n",
       "        rarity resistance  retreat_cost      variants    weakness  \n",
       "0  Rare Holo V        NaN           2.0     Unlimited     Metal×2  \n",
       "1         Rare        NaN           3.0     Unlimited  Fighting×2  \n",
       "2         Rare        NaN           3.0  Reverse Holo  Fighting×2  \n",
       "3  Rare Secret        NaN           NaN     Unlimited         NaN  \n",
       "4         Rare        NaN           2.0     Unlimited     Water×2  "
      ]
     },
     "execution_count": 6,
     "metadata": {},
     "output_type": "execute_result"
    }
   ],
   "source": [
    "df.head()"
   ]
  },
  {
   "cell_type": "code",
   "execution_count": 7,
   "metadata": {},
   "outputs": [],
   "source": [
    "# explode languages\n",
    "df[\"languages\"] = df[\"languages\"].fillna(\"\")\n",
    "df[\"languages\"] = df[\"languages\"].apply(lambda x: x.split(\";\"))\n",
    "df = df.explode(\"languages\", ignore_index=True)"
   ]
  },
  {
   "cell_type": "markdown",
   "metadata": {},
   "source": [
    "The dataframe after exploding for languages contains 278657 rows, and we will display the first few lines."
   ]
  },
  {
   "cell_type": "code",
   "execution_count": 8,
   "metadata": {},
   "outputs": [
    {
     "data": {
      "text/plain": [
       "(278657, 18)"
      ]
     },
     "execution_count": 8,
     "metadata": {},
     "output_type": "execute_result"
    }
   ],
   "source": [
    "df.shape"
   ]
  },
  {
   "cell_type": "code",
   "execution_count": 9,
   "metadata": {},
   "outputs": [
    {
     "data": {
      "text/html": [
       "<div>\n",
       "<style scoped>\n",
       "    .dataframe tbody tr th:only-of-type {\n",
       "        vertical-align: middle;\n",
       "    }\n",
       "\n",
       "    .dataframe tbody tr th {\n",
       "        vertical-align: top;\n",
       "    }\n",
       "\n",
       "    .dataframe thead th {\n",
       "        text-align: right;\n",
       "    }\n",
       "</style>\n",
       "<table border=\"1\" class=\"dataframe\">\n",
       "  <thead>\n",
       "    <tr style=\"text-align: right;\">\n",
       "      <th></th>\n",
       "      <th>attacks</th>\n",
       "      <th>card_format</th>\n",
       "      <th>card_number</th>\n",
       "      <th>card_type</th>\n",
       "      <th>damages</th>\n",
       "      <th>energy</th>\n",
       "      <th>evolution</th>\n",
       "      <th>evolved_from</th>\n",
       "      <th>expansion</th>\n",
       "      <th>hp</th>\n",
       "      <th>illustrators</th>\n",
       "      <th>languages</th>\n",
       "      <th>name</th>\n",
       "      <th>rarity</th>\n",
       "      <th>resistance</th>\n",
       "      <th>retreat_cost</th>\n",
       "      <th>variants</th>\n",
       "      <th>weakness</th>\n",
       "    </tr>\n",
       "  </thead>\n",
       "  <tbody>\n",
       "    <tr>\n",
       "      <th>0</th>\n",
       "      <td>Magical Shot;Swelling Pulse</td>\n",
       "      <td>Standard</td>\n",
       "      <td>016/073</td>\n",
       "      <td>Pokémon V</td>\n",
       "      <td>30;120+</td>\n",
       "      <td>Psychic</td>\n",
       "      <td>Basic</td>\n",
       "      <td>NaN</td>\n",
       "      <td>Champion's Path</td>\n",
       "      <td>210.0</td>\n",
       "      <td>Kagemaru Himeno</td>\n",
       "      <td>English (EN)</td>\n",
       "      <td>Gardevoir V</td>\n",
       "      <td>Rare Holo V</td>\n",
       "      <td>NaN</td>\n",
       "      <td>2.0</td>\n",
       "      <td>Unlimited</td>\n",
       "      <td>Metal×2</td>\n",
       "    </tr>\n",
       "    <tr>\n",
       "      <th>1</th>\n",
       "      <td>Magical Shot;Swelling Pulse</td>\n",
       "      <td>Standard</td>\n",
       "      <td>016/073</td>\n",
       "      <td>Pokémon V</td>\n",
       "      <td>30;120+</td>\n",
       "      <td>Psychic</td>\n",
       "      <td>Basic</td>\n",
       "      <td>NaN</td>\n",
       "      <td>Champion's Path</td>\n",
       "      <td>210.0</td>\n",
       "      <td>Kagemaru Himeno</td>\n",
       "      <td>French (FR)</td>\n",
       "      <td>Gardevoir V</td>\n",
       "      <td>Rare Holo V</td>\n",
       "      <td>NaN</td>\n",
       "      <td>2.0</td>\n",
       "      <td>Unlimited</td>\n",
       "      <td>Metal×2</td>\n",
       "    </tr>\n",
       "    <tr>\n",
       "      <th>2</th>\n",
       "      <td>Magical Shot;Swelling Pulse</td>\n",
       "      <td>Standard</td>\n",
       "      <td>016/073</td>\n",
       "      <td>Pokémon V</td>\n",
       "      <td>30;120+</td>\n",
       "      <td>Psychic</td>\n",
       "      <td>Basic</td>\n",
       "      <td>NaN</td>\n",
       "      <td>Champion's Path</td>\n",
       "      <td>210.0</td>\n",
       "      <td>Kagemaru Himeno</td>\n",
       "      <td>Spanish (ES)</td>\n",
       "      <td>Gardevoir V</td>\n",
       "      <td>Rare Holo V</td>\n",
       "      <td>NaN</td>\n",
       "      <td>2.0</td>\n",
       "      <td>Unlimited</td>\n",
       "      <td>Metal×2</td>\n",
       "    </tr>\n",
       "    <tr>\n",
       "      <th>3</th>\n",
       "      <td>Magical Shot;Swelling Pulse</td>\n",
       "      <td>Standard</td>\n",
       "      <td>016/073</td>\n",
       "      <td>Pokémon V</td>\n",
       "      <td>30;120+</td>\n",
       "      <td>Psychic</td>\n",
       "      <td>Basic</td>\n",
       "      <td>NaN</td>\n",
       "      <td>Champion's Path</td>\n",
       "      <td>210.0</td>\n",
       "      <td>Kagemaru Himeno</td>\n",
       "      <td>Portuguese (PT)</td>\n",
       "      <td>Gardevoir V</td>\n",
       "      <td>Rare Holo V</td>\n",
       "      <td>NaN</td>\n",
       "      <td>2.0</td>\n",
       "      <td>Unlimited</td>\n",
       "      <td>Metal×2</td>\n",
       "    </tr>\n",
       "    <tr>\n",
       "      <th>4</th>\n",
       "      <td>Magical Shot;Swelling Pulse</td>\n",
       "      <td>Standard</td>\n",
       "      <td>016/073</td>\n",
       "      <td>Pokémon V</td>\n",
       "      <td>30;120+</td>\n",
       "      <td>Psychic</td>\n",
       "      <td>Basic</td>\n",
       "      <td>NaN</td>\n",
       "      <td>Champion's Path</td>\n",
       "      <td>210.0</td>\n",
       "      <td>Kagemaru Himeno</td>\n",
       "      <td>Italian (IT)</td>\n",
       "      <td>Gardevoir V</td>\n",
       "      <td>Rare Holo V</td>\n",
       "      <td>NaN</td>\n",
       "      <td>2.0</td>\n",
       "      <td>Unlimited</td>\n",
       "      <td>Metal×2</td>\n",
       "    </tr>\n",
       "  </tbody>\n",
       "</table>\n",
       "</div>"
      ],
      "text/plain": [
       "                       attacks card_format card_number  card_type  damages  \\\n",
       "0  Magical Shot;Swelling Pulse    Standard     016/073  Pokémon V  30;120+   \n",
       "1  Magical Shot;Swelling Pulse    Standard     016/073  Pokémon V  30;120+   \n",
       "2  Magical Shot;Swelling Pulse    Standard     016/073  Pokémon V  30;120+   \n",
       "3  Magical Shot;Swelling Pulse    Standard     016/073  Pokémon V  30;120+   \n",
       "4  Magical Shot;Swelling Pulse    Standard     016/073  Pokémon V  30;120+   \n",
       "\n",
       "    energy evolution evolved_from        expansion     hp     illustrators  \\\n",
       "0  Psychic     Basic          NaN  Champion's Path  210.0  Kagemaru Himeno   \n",
       "1  Psychic     Basic          NaN  Champion's Path  210.0  Kagemaru Himeno   \n",
       "2  Psychic     Basic          NaN  Champion's Path  210.0  Kagemaru Himeno   \n",
       "3  Psychic     Basic          NaN  Champion's Path  210.0  Kagemaru Himeno   \n",
       "4  Psychic     Basic          NaN  Champion's Path  210.0  Kagemaru Himeno   \n",
       "\n",
       "         languages         name       rarity resistance  retreat_cost  \\\n",
       "0     English (EN)  Gardevoir V  Rare Holo V        NaN           2.0   \n",
       "1      French (FR)  Gardevoir V  Rare Holo V        NaN           2.0   \n",
       "2     Spanish (ES)  Gardevoir V  Rare Holo V        NaN           2.0   \n",
       "3  Portuguese (PT)  Gardevoir V  Rare Holo V        NaN           2.0   \n",
       "4     Italian (IT)  Gardevoir V  Rare Holo V        NaN           2.0   \n",
       "\n",
       "    variants weakness  \n",
       "0  Unlimited  Metal×2  \n",
       "1  Unlimited  Metal×2  \n",
       "2  Unlimited  Metal×2  \n",
       "3  Unlimited  Metal×2  \n",
       "4  Unlimited  Metal×2  "
      ]
     },
     "execution_count": 9,
     "metadata": {},
     "output_type": "execute_result"
    }
   ],
   "source": [
    "df.head()"
   ]
  },
  {
   "cell_type": "markdown",
   "metadata": {},
   "source": [
    "### 4. Groupby"
   ]
  },
  {
   "cell_type": "markdown",
   "metadata": {},
   "source": [
    "Before doing the groupby, let's first create a new column for max attack damage of each card. "
   ]
  },
  {
   "cell_type": "code",
   "execution_count": 10,
   "metadata": {},
   "outputs": [],
   "source": [
    "import re\n",
    "def process_damage(damages):\n",
    "    dams = damages.split(\";\")\n",
    "    # keeps numeric characters only\n",
    "    dams = [re.sub('[^0-9]', '', dam) for dam in dams]\n",
    "    # computes largest damage\n",
    "    largest = 0\n",
    "    for dam in dams:\n",
    "        # skips empty values\n",
    "        if dam==\"\": continue\n",
    "        largest = max(largest, int(dam))\n",
    "    return largest"
   ]
  },
  {
   "cell_type": "code",
   "execution_count": 11,
   "metadata": {},
   "outputs": [],
   "source": [
    "df[\"damages\"] = df[\"damages\"].fillna(\"\")\n",
    "df[\"max_damage\"] = df[\"damages\"].apply(process_damage)"
   ]
  },
  {
   "cell_type": "markdown",
   "metadata": {},
   "source": [
    "Now we will group the dataframe by {name, expansion} (corresponding to pokemon name and set name), and sort in descending order by maximum attack damage. "
   ]
  },
  {
   "cell_type": "code",
   "execution_count": 12,
   "metadata": {},
   "outputs": [],
   "source": [
    "df_grouped = df.groupby(by=[\"name\", \"expansion\"])[\"max_damage\"].max()\n",
    "df_grouped = df_grouped.sort_values(ascending=False)"
   ]
  },
  {
   "cell_type": "markdown",
   "metadata": {},
   "source": [
    "Let's display the first few lines of the groupby object for a quick sanity check. "
   ]
  },
  {
   "cell_type": "code",
   "execution_count": 13,
   "metadata": {},
   "outputs": [
    {
     "data": {
      "text/plain": [
       "name                            expansion           \n",
       "Zoroark and Legendary Pokémon   Unnumbered Promos       1000\n",
       "Tornadus, Thundurus & Landorus  Unnumbered Promos       1000\n",
       "Charizard-GX                    SM Black Star Promos     300\n",
       "Charizard VMAX                  Champion's Path          300\n",
       "                                Darkness Ablaze          300\n",
       "Name: max_damage, dtype: int64"
      ]
     },
     "execution_count": 13,
     "metadata": {},
     "output_type": "execute_result"
    }
   ],
   "source": [
    "df_grouped.head()"
   ]
  },
  {
   "cell_type": "markdown",
   "metadata": {},
   "source": [
    "### 5. To Dataframe"
   ]
  },
  {
   "cell_type": "markdown",
   "metadata": {},
   "source": [
    "We will now convert the groupby object into a pandas dataframe, and keep only \"name\" and \"expansion\" as columns."
   ]
  },
  {
   "cell_type": "code",
   "execution_count": 14,
   "metadata": {},
   "outputs": [],
   "source": [
    "df_grouped = df_grouped.reset_index().iloc[:, :2]"
   ]
  },
  {
   "cell_type": "markdown",
   "metadata": {},
   "source": [
    "This is how the dataframe looks like:"
   ]
  },
  {
   "cell_type": "code",
   "execution_count": 15,
   "metadata": {},
   "outputs": [
    {
     "data": {
      "text/html": [
       "<div>\n",
       "<style scoped>\n",
       "    .dataframe tbody tr th:only-of-type {\n",
       "        vertical-align: middle;\n",
       "    }\n",
       "\n",
       "    .dataframe tbody tr th {\n",
       "        vertical-align: top;\n",
       "    }\n",
       "\n",
       "    .dataframe thead th {\n",
       "        text-align: right;\n",
       "    }\n",
       "</style>\n",
       "<table border=\"1\" class=\"dataframe\">\n",
       "  <thead>\n",
       "    <tr style=\"text-align: right;\">\n",
       "      <th></th>\n",
       "      <th>name</th>\n",
       "      <th>expansion</th>\n",
       "    </tr>\n",
       "  </thead>\n",
       "  <tbody>\n",
       "    <tr>\n",
       "      <th>0</th>\n",
       "      <td>Zoroark and Legendary Pokémon</td>\n",
       "      <td>Unnumbered Promos</td>\n",
       "    </tr>\n",
       "    <tr>\n",
       "      <th>1</th>\n",
       "      <td>Tornadus, Thundurus &amp; Landorus</td>\n",
       "      <td>Unnumbered Promos</td>\n",
       "    </tr>\n",
       "    <tr>\n",
       "      <th>2</th>\n",
       "      <td>Charizard-GX</td>\n",
       "      <td>SM Black Star Promos</td>\n",
       "    </tr>\n",
       "    <tr>\n",
       "      <th>3</th>\n",
       "      <td>Charizard VMAX</td>\n",
       "      <td>Champion's Path</td>\n",
       "    </tr>\n",
       "    <tr>\n",
       "      <th>4</th>\n",
       "      <td>Charizard VMAX</td>\n",
       "      <td>Darkness Ablaze</td>\n",
       "    </tr>\n",
       "  </tbody>\n",
       "</table>\n",
       "</div>"
      ],
      "text/plain": [
       "                             name             expansion\n",
       "0   Zoroark and Legendary Pokémon     Unnumbered Promos\n",
       "1  Tornadus, Thundurus & Landorus     Unnumbered Promos\n",
       "2                    Charizard-GX  SM Black Star Promos\n",
       "3                  Charizard VMAX       Champion's Path\n",
       "4                  Charizard VMAX       Darkness Ablaze"
      ]
     },
     "execution_count": 15,
     "metadata": {},
     "output_type": "execute_result"
    }
   ],
   "source": [
    "df_grouped.head()"
   ]
  },
  {
   "cell_type": "markdown",
   "metadata": {},
   "source": [
    "### 6. Cache Dataframe"
   ]
  },
  {
   "cell_type": "markdown",
   "metadata": {},
   "source": [
    "Finally, we will write cached dataframe to a csv file. "
   ]
  },
  {
   "cell_type": "code",
   "execution_count": 16,
   "metadata": {},
   "outputs": [],
   "source": [
    "df_grouped.to_csv(\"data/output.csv\", index=False)"
   ]
  },
  {
   "cell_type": "markdown",
   "metadata": {},
   "source": [
    "End of everything! Thanks for reading. "
   ]
  }
 ],
 "metadata": {
  "kernelspec": {
   "display_name": "Python 3",
   "language": "python",
   "name": "python3"
  },
  "language_info": {
   "codemirror_mode": {
    "name": "ipython",
    "version": 3
   },
   "file_extension": ".py",
   "mimetype": "text/x-python",
   "name": "python",
   "nbconvert_exporter": "python",
   "pygments_lexer": "ipython3",
   "version": "3.6.10"
  }
 },
 "nbformat": 4,
 "nbformat_minor": 4
}
